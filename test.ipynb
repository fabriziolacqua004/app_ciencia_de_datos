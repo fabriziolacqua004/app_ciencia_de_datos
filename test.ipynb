{
 "cells": [
  {
   "cell_type": "markdown",
   "metadata": {},
   "source": [
    "# Test Functions\n",
    "\n",
    "This notebook can be used to test the functions in `functions.py`."
   ]
  },
  {
   "cell_type": "code",
   "execution_count": 2,
   "metadata": {},
   "outputs": [
    {
     "name": "stdout",
     "output_type": "stream",
     "text": [
      "Successfully imported connect_to_supabase from functions.py\n"
     ]
    }
   ],
   "source": [
    "# Import the function from functions.py\n",
    "try:\n",
    "    from functions import connect_to_supabase\n",
    "    print('Successfully imported connect_to_supabase from functions.py')\n",
    "except ImportError as e:\n",
    "    print(f'Error importing function: {e}')\n",
    "    print('Make sure functions.py is in the same directory or in the Python path.')"
   ]
  },
  {
   "cell_type": "code",
   "execution_count": 22,
   "id": "955988ad",
   "metadata": {},
   "outputs": [
    {
     "data": {
      "text/plain": [
       "True"
      ]
     },
     "execution_count": 22,
     "metadata": {},
     "output_type": "execute_result"
    }
   ],
   "source": [
    "from dotenv import load_dotenv\n",
    "\n",
    "load_dotenv()"
   ]
  },
  {
   "cell_type": "code",
   "execution_count": 3,
   "id": "ddfe89a9",
   "metadata": {},
   "outputs": [],
   "source": [
    "# Call the connect_to_supabase function\n",
    "\n",
    "supabase_client = connect_to_supabase()"
   ]
  },
  {
   "cell_type": "code",
   "execution_count": 4,
   "id": "b23d9329",
   "metadata": {},
   "outputs": [
    {
     "name": "stdout",
     "output_type": "stream",
     "text": [
      "Successfully imported execute_query from functions.py\n"
     ]
    }
   ],
   "source": [
    "# Import the function from functions.py\n",
    "try:\n",
    "    from functions import execute_query\n",
    "    print('Successfully imported execute_query from functions.py')\n",
    "except ImportError as e:\n",
    "    print(f'Error importing function: {e}')\n",
    "    print('Make sure functions.py is in the same directory or in the Python path.')"
   ]
  },
  {
   "cell_type": "code",
   "execution_count": 5,
   "id": "e90c2198",
   "metadata": {},
   "outputs": [],
   "source": [
    "query = \"SELECT * FROM empleado\""
   ]
  },
  {
   "cell_type": "code",
   "execution_count": 6,
   "id": "4391fa5b",
   "metadata": {},
   "outputs": [
    {
     "name": "stderr",
     "output_type": "stream",
     "text": [
      "2025-05-31 20:16:52.774 WARNING streamlit.runtime.scriptrunner_utils.script_run_context: Thread 'MainThread': missing ScriptRunContext! This warning can be ignored when running in bare mode.\n",
      "2025-05-31 20:16:53.627 \n",
      "  \u001b[33m\u001b[1mWarning:\u001b[0m to view this Streamlit app on a browser, run it with the following\n",
      "  command:\n",
      "\n",
      "    streamlit run C:\\Users\\matia\\AppData\\Local\\Packages\\PythonSoftwareFoundation.Python.3.11_qbz5n2kfra8p0\\LocalCache\\local-packages\\Python311\\site-packages\\ipykernel_launcher.py [ARGUMENTS]\n",
      "2025-05-31 20:16:53.630 Thread 'MainThread': missing ScriptRunContext! This warning can be ignored when running in bare mode.\n"
     ]
    },
    {
     "data": {
      "text/html": [
       "<div>\n",
       "<style scoped>\n",
       "    .dataframe tbody tr th:only-of-type {\n",
       "        vertical-align: middle;\n",
       "    }\n",
       "\n",
       "    .dataframe tbody tr th {\n",
       "        vertical-align: top;\n",
       "    }\n",
       "\n",
       "    .dataframe thead th {\n",
       "        text-align: right;\n",
       "    }\n",
       "</style>\n",
       "<table border=\"1\" class=\"dataframe\">\n",
       "  <thead>\n",
       "    <tr style=\"text-align: right;\">\n",
       "      <th></th>\n",
       "    </tr>\n",
       "  </thead>\n",
       "  <tbody>\n",
       "  </tbody>\n",
       "</table>\n",
       "</div>"
      ],
      "text/plain": [
       "Empty DataFrame\n",
       "Columns: []\n",
       "Index: []"
      ]
     },
     "execution_count": 6,
     "metadata": {},
     "output_type": "execute_result"
    }
   ],
   "source": [
    "execute_query(query)"
   ]
  }
 ],
 "metadata": {
  "kernelspec": {
   "display_name": "Python 3",
   "language": "python",
   "name": "python3"
  },
  "language_info": {
   "codemirror_mode": {
    "name": "ipython",
    "version": 3
   },
   "file_extension": ".py",
   "mimetype": "text/x-python",
   "name": "python",
   "nbconvert_exporter": "python",
   "pygments_lexer": "ipython3",
   "version": "3.11.9"
  }
 },
 "nbformat": 4,
 "nbformat_minor": 5
}
